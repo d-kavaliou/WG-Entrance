{
 "cells": [
  {
   "cell_type": "markdown",
   "metadata": {},
   "source": [
    "# Machine learning solution - 'Find a comedy' task"
   ]
  },
  {
   "cell_type": "code",
   "execution_count": 120,
   "metadata": {},
   "outputs": [],
   "source": [
    "# Data helpers\n",
    "import pandas as pd\n",
    "import numpy as np\n",
    "\n",
    "# Modelling algorithms\n",
    "from sklearn.linear_model import LogisticRegression, LinearRegression\n",
    "from sklearn.naive_bayes import GaussianNB\n",
    "from sklearn.tree import DecisionTreeClassifier\n",
    "from sklearn.svm import SVC\n",
    "from sklearn.model_selection import train_test_split\n",
    "from sklearn.preprocessing import StandardScaler\n",
    "\n",
    "# Image processing\n",
    "from skimage.io import imread\n",
    "\n",
    "# Evaluation\n",
    "from sklearn.metrics import roc_auc_score\n",
    "\n",
    "# Visualisation\n",
    "from matplotlib import pyplot as plt\n",
    "plt.style.use('ggplot')"
   ]
  },
  {
   "cell_type": "code",
   "execution_count": 121,
   "metadata": {
    "collapsed": true
   },
   "outputs": [],
   "source": [
    "# Path constants\n",
    "train_data_path = './data/train.csv'\n",
    "test_data_path = './data/test.csv'\n",
    "result_file_path = './predictions.csv'"
   ]
  },
  {
   "cell_type": "code",
   "execution_count": 122,
   "metadata": {
    "collapsed": true
   },
   "outputs": [],
   "source": [
    "# Load data\n",
    "train_data = pd.read_csv(train_data_path)\n",
    "test_data = pd.read_csv(test_data_path)\n",
    "\n",
    "combined_data = {\n",
    "    'train': train_data,\n",
    "    'test': test_data\n",
    "}"
   ]
  },
  {
   "cell_type": "markdown",
   "metadata": {},
   "source": [
    "# Feature extraction"
   ]
  },
  {
   "cell_type": "markdown",
   "metadata": {},
   "source": [
    "## Movie category"
   ]
  },
  {
   "cell_type": "markdown",
   "metadata": {},
   "source": [
    "Let's investigate our data. We can observe that there are a lot of bit columns represent movie category.\n",
    "\n",
    "We can make correlation matrix and figure out categories with the lowest correlation on target label. Taking into consideration the fact that a big amount of columns may decrease accuracy of linear models. \n",
    "\n",
    "In our case 'Sport' and 'News' have very low correlation score (~0.005 and 0.02)."
   ]
  },
  {
   "cell_type": "code",
   "execution_count": 123,
   "metadata": {},
   "outputs": [
    {
     "data": {
      "text/plain": [
       "Sport          0.004458\nNews           0.018527\nAdventure      0.032293\nFantasy        0.037766\nMusic          0.050680\nMusical        0.057900\nWestern        0.069769\nCrime          0.076993\nDocumentary    0.079898\nSci-Fi         0.090713\nWar            0.140589\nBiography      0.147653\nHistory        0.156832\nHorror         0.161735\nRomance        0.173307\nAction         0.174330\nAnimation      0.177769\nMystery        0.190259\nFamily         0.228513\nDrama          0.248148\nThriller       0.373698\nTarget         1.000000\nName: Target, dtype: float64"
      ]
     },
     "execution_count": 122,
     "metadata": {},
     "output_type": "execute_result"
    }
   ],
   "source": [
    "categories_correlation = train_data[train_data.columns.difference(['Id', 'Poster', 'Duration'])].corr().abs()\n",
    "categories_correlation['Target'].sort_values()"
   ]
  },
  {
   "cell_type": "markdown",
   "metadata": {},
   "source": [
    "Also let's check inner correlation of the columns. The features with high inner correlation can descrease linear model accurancy. In our case the biggest inner correlation is ~0.6. That's not a big score, therefore we can include all other category columns into the training set."
   ]
  },
  {
   "cell_type": "code",
   "execution_count": 124,
   "metadata": {},
   "outputs": [
    {
     "name": "stdout",
     "output_type": "stream",
     "text": [
      "0.606753960478\n"
     ]
    }
   ],
   "source": [
    "unstacked_correlation = categories_correlation.unstack()\n",
    "max_correlation = unstacked_correlation[unstacked_correlation != 1.0].max()\n",
    "\n",
    "print(max_correlation)"
   ]
  },
  {
   "cell_type": "markdown",
   "metadata": {},
   "source": [
    "## Movie rating"
   ]
  },
  {
   "cell_type": "markdown",
   "metadata": {},
   "source": [
    "Assumption #1 - the percentage of comedy movies depends on age limit\n",
    "\n",
    "Take a look at the table below. It represtents the ratio of comedy to the total movies number for a particular rating category.\n",
    "\n",
    "We can confirm that there is correlation between target and rating values.\n",
    "The probability of a movie to be considered as a comedy increases when the bigger amount of audience is allowed to watch it due to the age limit:\n",
    "TV_G => G => PG => PG-13 => R => NC-17.\n",
    "\n",
    "Unfortinatly, 'X' rating doesn't fit our assumption. Possible it's an outlier."
   ]
  },
  {
   "cell_type": "code",
   "execution_count": 125,
   "metadata": {
    "scrolled": false
   },
   "outputs": [
    {
     "data": {
      "text/html": [
       "<div>\n",
       "<style>\n",
       "    .dataframe thead tr:only-child th {\n",
       "        text-align: right;\n",
       "    }\n",
       "\n",
       "    .dataframe thead th {\n",
       "        text-align: left;\n",
       "    }\n",
       "\n",
       "    .dataframe tbody tr th {\n",
       "        vertical-align: top;\n",
       "    }\n",
       "</style>\n",
       "<table border=\"1\" class=\"dataframe\">\n",
       "  <thead>\n",
       "    <tr style=\"text-align: right;\">\n",
       "      <th></th>\n",
       "      <th>Rating</th>\n",
       "      <th>Target</th>\n",
       "    </tr>\n",
       "  </thead>\n",
       "  <tbody>\n",
       "    <tr>\n",
       "      <th>11</th>\n",
       "      <td>TV-G</td>\n",
       "      <td>0.800000</td>\n",
       "    </tr>\n",
       "    <tr>\n",
       "      <th>1</th>\n",
       "      <td>G</td>\n",
       "      <td>0.593023</td>\n",
       "    </tr>\n",
       "    <tr>\n",
       "      <th>6</th>\n",
       "      <td>PG</td>\n",
       "      <td>0.554717</td>\n",
       "    </tr>\n",
       "    <tr>\n",
       "      <th>14</th>\n",
       "      <td>X</td>\n",
       "      <td>0.428571</td>\n",
       "    </tr>\n",
       "    <tr>\n",
       "      <th>7</th>\n",
       "      <td>PG-13</td>\n",
       "      <td>0.393339</td>\n",
       "    </tr>\n",
       "    <tr>\n",
       "      <th>9</th>\n",
       "      <td>R</td>\n",
       "      <td>0.327920</td>\n",
       "    </tr>\n",
       "    <tr>\n",
       "      <th>13</th>\n",
       "      <td>Unrated</td>\n",
       "      <td>0.289474</td>\n",
       "    </tr>\n",
       "    <tr>\n",
       "      <th>0</th>\n",
       "      <td>Approved</td>\n",
       "      <td>0.275000</td>\n",
       "    </tr>\n",
       "    <tr>\n",
       "      <th>8</th>\n",
       "      <td>Passed</td>\n",
       "      <td>0.250000</td>\n",
       "    </tr>\n",
       "    <tr>\n",
       "      <th>10</th>\n",
       "      <td>TV-14</td>\n",
       "      <td>0.250000</td>\n",
       "    </tr>\n",
       "    <tr>\n",
       "      <th>5</th>\n",
       "      <td>Not Rated</td>\n",
       "      <td>0.212500</td>\n",
       "    </tr>\n",
       "    <tr>\n",
       "      <th>4</th>\n",
       "      <td>NC-17</td>\n",
       "      <td>0.200000</td>\n",
       "    </tr>\n",
       "    <tr>\n",
       "      <th>2</th>\n",
       "      <td>GP</td>\n",
       "      <td>0.000000</td>\n",
       "    </tr>\n",
       "    <tr>\n",
       "      <th>3</th>\n",
       "      <td>M</td>\n",
       "      <td>0.000000</td>\n",
       "    </tr>\n",
       "    <tr>\n",
       "      <th>12</th>\n",
       "      <td>TV-MA</td>\n",
       "      <td>0.000000</td>\n",
       "    </tr>\n",
       "  </tbody>\n",
       "</table>\n",
       "</div>"
      ],
      "text/plain": [
       "<div>\n",
       "<style>\n",
       "    .dataframe thead tr:only-child th {\n",
       "        text-align: right;\n",
       "    }\n",
       "\n",
       "    .dataframe thead th {\n",
       "        text-align: left;\n",
       "    }\n",
       "\n",
       "    .dataframe tbody tr th {\n",
       "        vertical-align: top;\n",
       "    }\n",
       "</style>\n",
       "<table border=\"1\" class=\"dataframe\">\n",
       "  <thead>\n",
       "    <tr style=\"text-align: right;\">\n",
       "      <th></th>\n",
       "      <th>Rating</th>\n",
       "      <th>Target</th>\n",
       "    </tr>\n",
       "  </thead>\n",
       "  <tbody>\n",
       "    <tr>\n",
       "      <th>11</th>\n",
       "      <td>TV-G</td>\n",
       "      <td>0.800000</td>\n",
       "    </tr>\n",
       "    <tr>\n",
       "      <th>1</th>\n",
       "      <td>G</td>\n",
       "      <td>0.593023</td>\n",
       "    </tr>\n",
       "    <tr>\n",
       "      <th>6</th>\n",
       "      <td>PG</td>\n",
       "      <td>0.554717</td>\n",
       "    </tr>\n",
       "    <tr>\n",
       "      <th>14</th>\n",
       "      <td>X</td>\n",
       "      <td>0.428571</td>\n",
       "    </tr>\n",
       "    <tr>\n",
       "      <th>7</th>\n",
       "      <td>PG-13</td>\n",
       "      <td>0.393339</td>\n",
       "    </tr>\n",
       "    <tr>\n",
       "      <th>9</th>\n",
       "      <td>R</td>\n",
       "      <td>0.327920</td>\n",
       "    </tr>\n",
       "    <tr>\n",
       "      <th>13</th>\n",
       "      <td>Unrated</td>\n",
       "      <td>0.289474</td>\n",
       "    </tr>\n",
       "    <tr>\n",
       "      <th>0</th>\n",
       "      <td>Approved</td>\n",
       "      <td>0.275000</td>\n",
       "    </tr>\n",
       "    <tr>\n",
       "      <th>8</th>\n",
       "      <td>Passed</td>\n",
       "      <td>0.250000</td>\n",
       "    </tr>\n",
       "    <tr>\n",
       "      <th>10</th>\n",
       "      <td>TV-14</td>\n",
       "      <td>0.250000</td>\n",
       "    </tr>\n",
       "    <tr>\n",
       "      <th>5</th>\n",
       "      <td>Not Rated</td>\n",
       "      <td>0.212500</td>\n",
       "    </tr>\n",
       "    <tr>\n",
       "      <th>4</th>\n",
       "      <td>NC-17</td>\n",
       "      <td>0.200000</td>\n",
       "    </tr>\n",
       "    <tr>\n",
       "      <th>2</th>\n",
       "      <td>GP</td>\n",
       "      <td>0.000000</td>\n",
       "    </tr>\n",
       "    <tr>\n",
       "      <th>3</th>\n",
       "      <td>M</td>\n",
       "      <td>0.000000</td>\n",
       "    </tr>\n",
       "    <tr>\n",
       "      <th>12</th>\n",
       "      <td>TV-MA</td>\n",
       "      <td>0.000000</td>\n",
       "    </tr>\n",
       "  </tbody>\n",
       "</table>\n",
       "</div>"
      ]
     },
     "execution_count": 124,
     "metadata": {},
     "output_type": "execute_result"
    }
   ],
   "source": [
    "train_data[['Rating', 'Target']].groupby('Rating', as_index=False)\\\n",
    "    .mean().sort_values(by='Target', ascending=False)"
   ]
  },
  {
   "cell_type": "markdown",
   "metadata": {},
   "source": [
    "We will encode 'Rating' categorical column with a numeric value. Also, we will merge equivalent values (e.g. X and NC-17, Unrated and Not Rated)."
   ]
  },
  {
   "cell_type": "code",
   "execution_count": 126,
   "metadata": {},
   "outputs": [],
   "source": [
    "# Numeric value is increased based on auditory audience restrictions\n",
    "rate_mapping = {\n",
    "    'G': 0,\n",
    "    'PG': 1,\n",
    "    'PG-13': 2,\n",
    "    'R': 3,\n",
    "    'X': 4,\n",
    "    'Not Rated': 5\n",
    "}\n",
    "\n",
    "for data_frame in combined_data.values():\n",
    "    # Let's consider missing values as Not Rated\n",
    "    data_frame['Rating'] = data_frame['Rating'].fillna('Not Rated')\n",
    "    data_frame['Rating'] = data_frame['Rating'].replace(['Unrated',\n",
    "                                                         'TV-G', 'Approved', 'Passed', \n",
    "                                                         'TV-14', \n",
    "                                                         'M', 'GP', \n",
    "                                                         'NC-17', 'TV-MA'],\n",
    "                                                        ['Not Rated', \n",
    "                                                         'G', 'G', 'G', \n",
    "                                                         'PG-13', \n",
    "                                                         'PG', 'PG', \n",
    "                                                         'X', 'X'])\n",
    "\n",
    "    data_frame['Rating'] = data_frame['Rating'].map(rate_mapping)"
   ]
  },
  {
   "cell_type": "markdown",
   "metadata": {},
   "source": [
    "## Poster"
   ]
  },
  {
   "cell_type": "markdown",
   "metadata": {},
   "source": [
    "Assumption #2 - poster colour scheme correlates with target label.\n",
    "\n",
    "The main problem here is to represent an image ias a numeral. One of possible approaches is converting a poster to a numeral using mean value of Red channel (for RGB image model). The assumption is that R channel value influences on 'darkness' of a poster.\n",
    "\n",
    "It's necessary to add that several experiments were conducted with HSV representation but it didn't increase model accuracy. Moreover it decreased overall perfomance."
   ]
  },
  {
   "cell_type": "code",
   "execution_count": 127,
   "metadata": {},
   "outputs": [],
   "source": [
    "def get_float_of_poster(img_name):\n",
    "    image = imread(\"./task_2_data/posters/{}\".format(img_name))\n",
    "    # get mean value of R channel\n",
    "    return np.mean(image[:, :, 0])\n",
    "\n",
    "for data_frame in combined_data.values():\n",
    "    data_frame['Poster_Float'] = data_frame['Poster'].map(get_float_of_poster)"
   ]
  },
  {
   "cell_type": "markdown",
   "metadata": {},
   "source": [
    "Let's visualize the results. Indeed, we can observe some correlation on the graphs."
   ]
  },
  {
   "cell_type": "code",
   "execution_count": 128,
   "metadata": {},
   "outputs": [
    {
     "data": {
      "image/png": "[encoded data removed]",
      "text/plain": [
       "<matplotlib.figure.Figure at 0x7f2c2a901438>"
      ]
     },
     "metadata": {},
     "output_type": "display_data"
    },
    {
     "data": {
      "image/png": "[encoded data removed]",
      "text/plain": [
       "<matplotlib.figure.Figure at 0x7f2c2acc6c88>"
      ]
     },
     "metadata": {},
     "output_type": "display_data"
    },
    {
     "data": {
      "image/png": "[encoded data removed]",
      "text/plain": [
       "<matplotlib.figure.Figure at 0x7f2c2ab30f60>"
      ]
     },
     "metadata": {},
     "output_type": "display_data"
    }
   ],
   "source": [
    "def display_poster_category_chart(category):\n",
    "    poster_rounded = train_data['Poster_Float'].map(lambda num: round(num, 0))\n",
    "    poster_data = train_data[[category]].join(poster_rounded).groupby('Poster_Float', as_index=False).sum()\n",
    "    plt.title('{} on R-channel value'.format(category))\n",
    "    plt.plot(poster_data[['Poster_Float']], poster_data[category])\n",
    "    plt.show()\n",
    "\n",
    "display_poster_category_chart('Target')\n",
    "display_poster_category_chart('Thriller')\n",
    "display_poster_category_chart('Action')"
   ]
  },
  {
   "cell_type": "markdown",
   "metadata": {},
   "source": [
    "# Data preprocessing"
   ]
  },
  {
   "cell_type": "markdown",
   "metadata": {},
   "source": [
    "Linear algorithms are very sensitive to data scaling. Also we have numeric column 'Duration' which should be also scaled as well. We will scale the data by StandardScaler. \n",
    "\n",
    "And also we will exclude the extra columns."
   ]
  },
  {
   "cell_type": "code",
   "execution_count": 129,
   "metadata": {
    "collapsed": true
   },
   "outputs": [],
   "source": [
    "scaled_features = {}\n",
    "scaler = StandardScaler()\n",
    "\n",
    "for name, data_frame in combined_data.items():\n",
    "    features = data_frame[data_frame.columns.difference(['Id', 'Target',\n",
    "                                                         'Language', 'Country',\n",
    "                                                         'Poster',\n",
    "                                                         'Sport', 'News'\n",
    "                                                         ])]\n",
    "    \n",
    "    scaled_features[name] = scaler.fit_transform(features)"
   ]
  },
  {
   "cell_type": "markdown",
   "metadata": {},
   "source": [
    "# Model training"
   ]
  },
  {
   "cell_type": "markdown",
   "metadata": {},
   "source": [
    "We will split our training data and apply several machine learning models."
   ]
  },
  {
   "cell_type": "code",
   "execution_count": 130,
   "metadata": {
    "collapsed": true
   },
   "outputs": [],
   "source": [
    "train, test, train_labels, test_labels = train_test_split(scaled_features['train'], train_data['Target'], test_size=0.20)\n",
    "\n",
    "trained_models = {'Logistic Regression': LogisticRegression().fit(train, train_labels),\n",
    "                  'Linear Regression': LinearRegression().fit(train, train_labels),\n",
    "                  'SVC': SVC().fit(train, train_labels),\n",
    "                  'Naive Bayes': GaussianNB().fit(train, train_labels),\n",
    "                  'Decision Tree Classifier': DecisionTreeClassifier().fit(train, train_labels)}"
   ]
  },
  {
   "cell_type": "markdown",
   "metadata": {},
   "source": [
    "# Evaluation"
   ]
  },
  {
   "cell_type": "code",
   "execution_count": 131,
   "metadata": {},
   "outputs": [
    {
     "name": "stdout",
     "output_type": "stream",
     "text": [
      "Linear Regression - 0.8875284738041002\nSVC - 0.8133304859529232\nLogistic Regression - 0.7990659010377119\nNaive Bayes - 0.7863950582131106\nDecision Tree Classifier - 0.7192720197418376\n"
     ]
    }
   ],
   "source": [
    "scores = []\n",
    "for model_name, model in trained_models.items():\n",
    "    scores.append((model_name, roc_auc_score(test_labels, model.predict(test))))\n",
    "\n",
    "scores.sort(key=lambda row: row[1], reverse=True)\n",
    "\n",
    "for name, score in scores:\n",
    "    print('{} - {}'.format(name, score))"
   ]
  },
  {
   "cell_type": "markdown",
   "metadata": {},
   "source": [
    "Based on the score results we can choose a model with the highest AUC score - Linear Regression model.\n",
    "It's score ~ 0.9"
   ]
  },
  {
   "cell_type": "markdown",
   "metadata": {},
   "source": [
    "# Output results"
   ]
  },
  {
   "cell_type": "code",
   "execution_count": 131,
   "metadata": {
    "collapsed": true
   },
   "outputs": [],
   "source": [
    "final_model = LinearRegression().fit(scaled_features['train'], train_data['Target'])\n",
    "\n",
    "probabilities = final_model.predict(scaled_features['test'])\n",
    "probabilities[probabilities < 0] = 0\n",
    "probabilities = probabilities.round(6)\n",
    "\n",
    "dump_frame = pd.DataFrame(test_data[['Id']])\n",
    "dump_frame['Probability'] = probabilities\n",
    "\n",
    "dump_frame.to_csv(result_file_path)"
   ]
  },
  {
   "cell_type": "markdown",
   "metadata": {},
   "source": [
    "# Final Notes:\n",
    "\n",
    "As we've just prooved, the best results were obtained by linear models. It indicates that the chosen features have strong linear relationship.\n",
    "\n",
    "Language and Country columns were excluded after several tries of their integration. Obviously we cannot encode them by numerials as we did with Rating variable. One-hot-encoding method was tested on the training dataset. But it didn't improve score of models and even decreased some scores. One possible approach is to extract additional features based on exisiting ones(e.g. Country_Rating). Also, we can try to use non-linear models (Decision Tree or Bayes) particulary for these columns and combine their scores with the final model results."
   ]
  }
 ],
 "metadata": {
  "kernelspec": {
   "display_name": "Python 3",
   "language": "python",
   "name": "python3"
  },
  "language_info": {
   "codemirror_mode": {
    "name": "ipython",
    "version": 3
   },
   "file_extension": ".py",
   "mimetype": "text/x-python",
   "name": "python",
   "nbconvert_exporter": "python",
   "pygments_lexer": "ipython3",
   "version": "3.5.2"
  }
 },
 "nbformat": 4,
 "nbformat_minor": 0
}
